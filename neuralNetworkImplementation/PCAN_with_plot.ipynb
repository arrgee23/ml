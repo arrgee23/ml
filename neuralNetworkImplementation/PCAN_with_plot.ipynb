{
 "cells": [
  {
   "cell_type": "code",
   "execution_count": 1,
   "metadata": {},
   "outputs": [
    {
     "data": {
      "text/plain": [
       "'\\nprint(nn.weights)\\nfor i in range(nn.weights.shape[0]):\\n    print(sum(nn.weights[i]*nn.weights[i]))\\n'"
      ]
     },
     "execution_count": 1,
     "metadata": {},
     "output_type": "execute_result"
    }
   ],
   "source": [
    "\"\"\"\n",
    "Neural network learning using backpropagation and \n",
    "gradient descent\n",
    "\"\"\"\n",
    "\n",
    "import random\n",
    "import numpy as np\n",
    "import pickle\n",
    "import pandas as pd\n",
    "\n",
    "class PCAN(object):\n",
    "\n",
    "    def __init__(self, sizes,is_from_file=False):\n",
    "        \"\"\"\n",
    "        sizes is a list containing the number of neurons in each layer  \n",
    "        from input to output, every layer must be specified\n",
    "        no need to specify bias neurons\n",
    "        \"\"\"\n",
    "        self.num_layers = len(sizes)\n",
    "        self.sizes = sizes\n",
    "        \n",
    "        if(is_from_file):\n",
    "            infile = open(\"weights\",'rb')\n",
    "            self.weights = pickle.load(infile)\n",
    "            infile.close()\n",
    "\n",
    "            #print(\"weights: \",self.weights)\n",
    "            #print(\"biases: \",self.biases)\n",
    "\n",
    "        else:        \n",
    "            \n",
    "            a = np.array([np.random.randn(y, x) for x, y in zip(sizes[:-1], sizes[1:])])\n",
    "            #a= np.array([[1,1],[2,2]])\n",
    "            #print(a[0].shape)\n",
    "            a = a[0]\n",
    "            for i in range(a.shape[0]):\n",
    "                sumrow = 0\n",
    "                for j in range(a.shape[1]):\n",
    "                    sumrow += a[i][j]*a[i][j]\n",
    "                #print(sumrow)\n",
    "                for j in range(len(a[i])):\n",
    "                    a[i][j]=a[i][j]/np.math.sqrt(sumrow)\n",
    "\n",
    "            self.weights = a\n",
    "            #print(self.weights)\n",
    "\n",
    "    def train(self,x,eta,num_epoch=10000):\n",
    "        # w = out*in... x=m*in y=out*1\n",
    "        e = x.copy()\n",
    "        epsilon = 0.0005\n",
    "\n",
    "        # for every neuron\n",
    "        for j in range(self.weights.shape[0]):\n",
    "            \n",
    "            #for every epoch\n",
    "            for s in range(num_epoch):\n",
    "                \n",
    "                #loop for each example\n",
    "                for k in range(x.shape[0]): \n",
    "                    y = np.dot(x[k],self.weights[j].T) # (1*in)(in*1)=y = 1*1\n",
    "                    # self.weights[k] = 1*in\n",
    "                    bkup = self.weights[j].copy()\n",
    "                    self.weights[j] = bkup + eta*np.dot(y,(e[k] - np.dot(y,bkup))) #1*in\n",
    "                    \n",
    "                    # break if the change is small\n",
    "                    \"\"\"\n",
    "                    a = self.weights[j] - bkup\n",
    "                    print(sum(a*a))\n",
    "                    if(sum(a*a)<epsilon):\n",
    "                        break\n",
    "                    \"\"\"\n",
    "                #todo decrease epsilon\n",
    "            \n",
    "            #update error after stabilization of last set of weights\n",
    "            for k in range(x.shape[0]): \n",
    "                y = np.dot(x[k],self.weights[j].T) # (1*in)(in*1)=y = 1*1\n",
    "                e[k] = e[k] - y*self.weights[j]\n",
    "\n",
    "\n",
    "\n",
    "\"\"\"\n",
    "print(nn.weights)\n",
    "for i in range(nn.weights.shape[0]):\n",
    "    print(sum(nn.weights[i]*nn.weights[i]))\n",
    "\"\"\""
   ]
  },
  {
   "cell_type": "code",
   "execution_count": 22,
   "metadata": {},
   "outputs": [
    {
     "name": "stdout",
     "output_type": "stream",
     "text": [
      "[[-0.47887008 -0.87845444]\n",
      " [ 0.87798234 -0.47868712]]\n"
     ]
    }
   ],
   "source": [
    "nn = PCAN([2,2])\n",
    "#print(nn.weights)\n",
    "x = np.array([[3,3],[4,4],[5,5],[4,3],[2,5],[-1,3],[1.7,9],[3,6]])\n",
    "nn.train(x,0.0005)\n",
    "print(nn.weights)"
   ]
  },
  {
   "cell_type": "code",
   "execution_count": 23,
   "metadata": {},
   "outputs": [
    {
     "data": {
      "image/png": "[encoded data removed]",
      "text/plain": [
       "<Figure size 432x288 with 1 Axes>"
      ]
     },
     "metadata": {
      "needs_background": "light"
     },
     "output_type": "display_data"
    }
   ],
   "source": [
    "import matplotlib.pyplot as plt\n",
    "\n",
    "for i in range(x.shape[0]):\n",
    "    plt.scatter(x[i][0],x[i][1])\n",
    "for i in range(nn.weights.shape[0]):\n",
    "    plt.plot([10*nn.weights[i][0],nn.weights[i][0],-10*nn.weights[i][0]],\n",
    "             [10*nn.weights[i][1],nn.weights[i][1],-10*nn.weights[i][1]])"
   ]
  },
  {
   "cell_type": "code",
   "execution_count": null,
   "metadata": {},
   "outputs": [],
   "source": []
  }
 ],
 "metadata": {
  "kernelspec": {
   "display_name": "Python 3",
   "language": "python",
   "name": "python3"
  },
  "language_info": {
   "codemirror_mode": {
    "name": "ipython",
    "version": 3
   },
   "file_extension": ".py",
   "mimetype": "text/x-python",
   "name": "python",
   "nbconvert_exporter": "python",
   "pygments_lexer": "ipython3",
   "version": "3.7.1"
  }
 },
 "nbformat": 4,
 "nbformat_minor": 2
}
